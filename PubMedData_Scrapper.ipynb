{
 "cells": [
  {
   "cell_type": "markdown",
   "id": "8c43d035",
   "metadata": {},
   "source": [
    "# SkimLit"
   ]
  },
  {
   "cell_type": "markdown",
   "id": "d9ab3e79",
   "metadata": {},
   "source": [
    "![Skimlit example inputs and outputs](https://raw.githubusercontent.com/mrdbourke/tensorflow-deep-learning/main/images/09-skimlit-overview-input-and-output.png)"
   ]
  },
  {
   "cell_type": "markdown",
   "id": "23086773",
   "metadata": {},
   "source": [
    "## Importing Libraries"
   ]
  },
  {
   "cell_type": "code",
   "execution_count": 1,
   "id": "83ae69b5",
   "metadata": {},
   "outputs": [],
   "source": [
    "from selenium import webdriver\n",
    "from selenium.webdriver.common.keys import Keys\n",
    "from bs4 import BeautifulSoup\n",
    "import time\n",
    "import os \n",
    "import requests\n",
    "import urllib\n",
    "import tensorflow as tf\n",
    "import tensorflow_hub as hub\n",
    "from spacy.lang.en import English\n",
    "import joblib"
   ]
  },
  {
   "cell_type": "markdown",
   "id": "4eb765da",
   "metadata": {},
   "source": [
    "## Loading the NLP model"
   ]
  },
  {
<<<<<<< HEAD
   "cell_type": "code",
   "execution_count": null,
   "id": "08048464",
   "metadata": {},
   "outputs": [],
   "source": []
=======
   "attachments": {},
   "cell_type": "markdown",
   "id": "22f96ea5",
   "metadata": {},
   "source": [
    "[model](https://drive.google.com/drive/folders/1-EhknpZwloEPEOAzCykealKAZ7aAfkxx?usp=share_link)"
   ]
>>>>>>> fe044dd91f9f85494f7af10b4632c497cca4210e
  },
  {
   "cell_type": "code",
   "execution_count": null,
   "id": "347cf96d",
   "metadata": {},
   "outputs": [
    {
     "name": "stdout",
     "output_type": "stream",
     "text": [
      "WARNING:tensorflow:Please fix your imports. Module tensorflow.python.training.tracking.data_structures has been moved to tensorflow.python.trackable.data_structures. The old module will be deleted in version 2.11.\n"
     ]
    }
   ],
   "source": [
    "loaded_model = tf.keras.models.load_model(\"SkimLit_Model_V1\",custom_objects={\"KerasLayer\":hub.KerasLayer})\n",
    "loaded_model"
   ]
  },
  {
   "cell_type": "markdown",
   "id": "68135990",
   "metadata": {},
   "source": [
    "## Web Scraping the DataSet "
   ]
  },
  {
   "cell_type": "code",
   "execution_count": 80,
   "id": "19dc27f8",
   "metadata": {},
   "outputs": [],
   "source": [
    "driver = webdriver.Chrome()\n",
    "driver.get(\"https://pubmed.ncbi.nlm.nih.gov/\")"
   ]
  },
  {
   "cell_type": "code",
   "execution_count": 81,
   "id": "f07abe97",
   "metadata": {},
   "outputs": [],
   "source": [
    "search_bar = driver.find_element(\"xpath\",'//*[@id=\"id_term\"]')\n",
    "search_bar.send_keys(\"cancer cells\")"
   ]
  },
  {
   "cell_type": "code",
   "execution_count": 82,
   "id": "21694bf9",
   "metadata": {},
   "outputs": [],
   "source": [
    "driver.find_element(\"xpath\",'//*[@id=\"search-form\"]/div/div[1]/div/button').click()"
   ]
  },
  {
   "cell_type": "code",
   "execution_count": 83,
   "id": "70cdf611",
   "metadata": {},
   "outputs": [],
   "source": [
    "driver.find_element(\"xpath\",'//*[@id=\"search-results\"]/section/div[1]/div/article[1]/div[2]/div[1]/a').click()"
   ]
  },
  {
   "cell_type": "code",
   "execution_count": 84,
   "id": "69c8e9f6",
   "metadata": {},
   "outputs": [],
   "source": [
    "bs = BeautifulSoup(driver.page_source,\"lxml\")"
   ]
  },
  {
   "cell_type": "code",
   "execution_count": 85,
   "id": "26eeb482",
   "metadata": {},
   "outputs": [
    {
     "data": {
      "text/plain": [
       "'\\n\\n      \\n      Cancer cells face various metabolic challenges during tumor progression, including growth in the nutrient-altered and oxygen-deficient microenvironment of the primary site, intravasation into vessels where anchorage-independent growth is required, and colonization of distant organs where the environment is distinct from that of the primary site. Thus, cancer cells must reprogram their metabolic state in every step of cancer progression. Metabolic reprogramming is now recognized as a hallmark of cancer cells and supports cancer growth. Elucidating the underlying mechanisms of metabolic reprogramming in cancer cells may help identifying cancer targets and treatment strategies. This review summarizes our current understanding of metabolic reprogramming during cancer progression and metastasis, including cancer cell adaptation to the tumor microenvironment, defense against oxidative stress during anchorage-independent growth in vessels, and metabolic reprogramming during metastasis.\\n    \\n'"
      ]
     },
     "execution_count": 85,
     "metadata": {},
     "output_type": "execute_result"
    }
   ],
   "source": [
    "abstract_text = bs.find(\"div\",class_ = \"abstract-content selected\").text\n",
    "abstract_text"
   ]
  },
  {
   "cell_type": "markdown",
   "id": "b0b904bd",
   "metadata": {},
   "source": [
    "## spliting the text into sentences"
   ]
  },
  {
   "cell_type": "code",
   "execution_count": 90,
   "id": "ed9b96c5",
   "metadata": {},
   "outputs": [
    {
     "data": {
      "text/plain": [
       "\n",
       "\n",
       "      \n",
       "      Cancer cells face various metabolic challenges during tumor progression, including growth in the nutrient-altered and oxygen-deficient microenvironment of the primary site, intravasation into vessels where anchorage-independent growth is required, and colonization of distant organs where the environment is distinct from that of the primary site. Thus, cancer cells must reprogram their metabolic state in every step of cancer progression. Metabolic reprogramming is now recognized as a hallmark of cancer cells and supports cancer growth. Elucidating the underlying mechanisms of metabolic reprogramming in cancer cells may help identifying cancer targets and treatment strategies. This review summarizes our current understanding of metabolic reprogramming during cancer progression and metastasis, including cancer cell adaptation to the tumor microenvironment, defense against oxidative stress during anchorage-independent growth in vessels, and metabolic reprogramming during metastasis.\n",
       "    "
      ]
     },
     "execution_count": 90,
     "metadata": {},
     "output_type": "execute_result"
    }
   ],
   "source": [
    "nlp = English()\n",
    "nlp.add_pipe(\"sentencizer\")\n",
    "doc = nlp(abstract_text)\n",
    "doc"
   ]
  },
  {
   "cell_type": "code",
   "execution_count": 91,
   "id": "87bd8107",
   "metadata": {},
   "outputs": [
    {
     "data": {
      "text/plain": [
       "['\\n\\n      \\n      Cancer cells face various metabolic challenges during tumor progression, including growth in the nutrient-altered and oxygen-deficient microenvironment of the primary site, intravasation into vessels where anchorage-independent growth is required, and colonization of distant organs where the environment is distinct from that of the primary site.',\n",
       " 'Thus, cancer cells must reprogram their metabolic state in every step of cancer progression.',\n",
       " 'Metabolic reprogramming is now recognized as a hallmark of cancer cells and supports cancer growth.',\n",
       " 'Elucidating the underlying mechanisms of metabolic reprogramming in cancer cells may help identifying cancer targets and treatment strategies.',\n",
       " 'This review summarizes our current understanding of metabolic reprogramming during cancer progression and metastasis, including cancer cell adaptation to the tumor microenvironment, defense against oxidative stress during anchorage-independent growth in vessels, and metabolic reprogramming during metastasis.',\n",
       " '\\n    \\n']"
      ]
     },
     "execution_count": 91,
     "metadata": {},
     "output_type": "execute_result"
    }
   ],
   "source": [
    "abstract_line = [str(sen) for sen in list(doc.sents)]\n",
    "abstract_line"
   ]
  },
  {
   "cell_type": "markdown",
   "id": "8dbd61bf",
   "metadata": {},
   "source": [
    "## Creating a Dataset abstract for our model Input"
   ]
  },
  {
   "cell_type": "code",
   "execution_count": 92,
   "id": "9504a1d9",
   "metadata": {},
   "outputs": [
    {
     "data": {
      "text/plain": [
       "[{'text': '\\n\\n      \\n      Cancer cells face various metabolic challenges during tumor progression, including growth in the nutrient-altered and oxygen-deficient microenvironment of the primary site, intravasation into vessels where anchorage-independent growth is required, and colonization of distant organs where the environment is distinct from that of the primary site.',\n",
       "  'line_number': 0,\n",
       "  'total_line_number': 5},\n",
       " {'text': 'Thus, cancer cells must reprogram their metabolic state in every step of cancer progression.',\n",
       "  'line_number': 1,\n",
       "  'total_line_number': 5},\n",
       " {'text': 'Metabolic reprogramming is now recognized as a hallmark of cancer cells and supports cancer growth.',\n",
       "  'line_number': 2,\n",
       "  'total_line_number': 5},\n",
       " {'text': 'Elucidating the underlying mechanisms of metabolic reprogramming in cancer cells may help identifying cancer targets and treatment strategies.',\n",
       "  'line_number': 3,\n",
       "  'total_line_number': 5},\n",
       " {'text': 'This review summarizes our current understanding of metabolic reprogramming during cancer progression and metastasis, including cancer cell adaptation to the tumor microenvironment, defense against oxidative stress during anchorage-independent growth in vessels, and metabolic reprogramming during metastasis.',\n",
       "  'line_number': 4,\n",
       "  'total_line_number': 5},\n",
       " {'text': '\\n    \\n', 'line_number': 5, 'total_line_number': 5}]"
      ]
     },
     "execution_count": 92,
     "metadata": {},
     "output_type": "execute_result"
    }
   ],
   "source": [
    "total_line_number = len(abstract_line)\n",
    "sample_text = []\n",
    "for i,lines in enumerate(abstract_line):\n",
    "  dic = {}\n",
    "  dic[\"text\"] = lines\n",
    "  dic[\"line_number\"] = i\n",
    "  dic[\"total_line_number\"] = total_line_number-1\n",
    "  sample_text.append(dic)\n",
    "sample_text"
   ]
  },
  {
   "cell_type": "markdown",
   "id": "0df1dd8d",
   "metadata": {},
   "source": [
    "## Creating a Extra Features for our model"
   ]
  },
  {
   "cell_type": "code",
   "execution_count": 93,
   "id": "262a5cf3",
   "metadata": {},
   "outputs": [
    {
     "data": {
      "text/plain": [
       "<tf.Tensor: shape=(6, 15), dtype=float32, numpy=\n",
       "array([[1., 0., 0., 0., 0., 0., 0., 0., 0., 0., 0., 0., 0., 0., 0.],\n",
       "       [0., 1., 0., 0., 0., 0., 0., 0., 0., 0., 0., 0., 0., 0., 0.],\n",
       "       [0., 0., 1., 0., 0., 0., 0., 0., 0., 0., 0., 0., 0., 0., 0.],\n",
       "       [0., 0., 0., 1., 0., 0., 0., 0., 0., 0., 0., 0., 0., 0., 0.],\n",
       "       [0., 0., 0., 0., 1., 0., 0., 0., 0., 0., 0., 0., 0., 0., 0.],\n",
       "       [0., 0., 0., 0., 0., 1., 0., 0., 0., 0., 0., 0., 0., 0., 0.]],\n",
       "      dtype=float32)>"
      ]
     },
     "execution_count": 93,
     "metadata": {},
     "output_type": "execute_result"
    }
   ],
   "source": [
    "test_abstract_lines_number = [line[\"line_number\"]for line in sample_text]\n",
    "test_abstract_lines_number_one_hot = tf.one_hot(test_abstract_lines_number,depth=15)\n",
    "test_abstract_lines_number_one_hot"
   ]
  },
  {
   "cell_type": "code",
   "execution_count": 94,
   "id": "07778a76",
   "metadata": {},
   "outputs": [
    {
     "data": {
      "text/plain": [
       "<tf.Tensor: shape=(6, 20), dtype=float32, numpy=\n",
       "array([[0., 0., 0., 0., 0., 1., 0., 0., 0., 0., 0., 0., 0., 0., 0., 0.,\n",
       "        0., 0., 0., 0.],\n",
       "       [0., 0., 0., 0., 0., 1., 0., 0., 0., 0., 0., 0., 0., 0., 0., 0.,\n",
       "        0., 0., 0., 0.],\n",
       "       [0., 0., 0., 0., 0., 1., 0., 0., 0., 0., 0., 0., 0., 0., 0., 0.,\n",
       "        0., 0., 0., 0.],\n",
       "       [0., 0., 0., 0., 0., 1., 0., 0., 0., 0., 0., 0., 0., 0., 0., 0.,\n",
       "        0., 0., 0., 0.],\n",
       "       [0., 0., 0., 0., 0., 1., 0., 0., 0., 0., 0., 0., 0., 0., 0., 0.,\n",
       "        0., 0., 0., 0.],\n",
       "       [0., 0., 0., 0., 0., 1., 0., 0., 0., 0., 0., 0., 0., 0., 0., 0.,\n",
       "        0., 0., 0., 0.]], dtype=float32)>"
      ]
     },
     "execution_count": 94,
     "metadata": {},
     "output_type": "execute_result"
    }
   ],
   "source": [
    "test_abstract_total_lines = [line[\"total_line_number\"]for line in sample_text]\n",
    "test_abstract_total_lines_one_hot = tf.one_hot(test_abstract_total_lines,depth=20)\n",
    "test_abstract_total_lines_one_hot"
   ]
  },
  {
   "cell_type": "markdown",
   "id": "2ddd22d7",
   "metadata": {},
   "source": [
    "## Helper Function"
   ]
  },
  {
   "cell_type": "code",
   "execution_count": 95,
   "id": "dd6ea99e",
   "metadata": {},
   "outputs": [],
   "source": [
    "def split_chars(text):\n",
    "    return \" \".join(list(text))"
   ]
  },
  {
   "cell_type": "markdown",
   "id": "88b391f9",
   "metadata": {},
   "source": [
    "## Spliting the Characters for extra features for our model "
   ]
  },
  {
   "cell_type": "code",
   "execution_count": 96,
   "id": "2602c8db",
   "metadata": {},
   "outputs": [
    {
     "data": {
      "text/plain": [
       "['\\n \\n             \\n             C a n c e r   c e l l s   f a c e   v a r i o u s   m e t a b o l i c   c h a l l e n g e s   d u r i n g   t u m o r   p r o g r e s s i o n ,   i n c l u d i n g   g r o w t h   i n   t h e   n u t r i e n t - a l t e r e d   a n d   o x y g e n - d e f i c i e n t   m i c r o e n v i r o n m e n t   o f   t h e   p r i m a r y   s i t e ,   i n t r a v a s a t i o n   i n t o   v e s s e l s   w h e r e   a n c h o r a g e - i n d e p e n d e n t   g r o w t h   i s   r e q u i r e d ,   a n d   c o l o n i z a t i o n   o f   d i s t a n t   o r g a n s   w h e r e   t h e   e n v i r o n m e n t   i s   d i s t i n c t   f r o m   t h a t   o f   t h e   p r i m a r y   s i t e .',\n",
       " 'T h u s ,   c a n c e r   c e l l s   m u s t   r e p r o g r a m   t h e i r   m e t a b o l i c   s t a t e   i n   e v e r y   s t e p   o f   c a n c e r   p r o g r e s s i o n .',\n",
       " 'M e t a b o l i c   r e p r o g r a m m i n g   i s   n o w   r e c o g n i z e d   a s   a   h a l l m a r k   o f   c a n c e r   c e l l s   a n d   s u p p o r t s   c a n c e r   g r o w t h .',\n",
       " 'E l u c i d a t i n g   t h e   u n d e r l y i n g   m e c h a n i s m s   o f   m e t a b o l i c   r e p r o g r a m m i n g   i n   c a n c e r   c e l l s   m a y   h e l p   i d e n t i f y i n g   c a n c e r   t a r g e t s   a n d   t r e a t m e n t   s t r a t e g i e s .',\n",
       " 'T h i s   r e v i e w   s u m m a r i z e s   o u r   c u r r e n t   u n d e r s t a n d i n g   o f   m e t a b o l i c   r e p r o g r a m m i n g   d u r i n g   c a n c e r   p r o g r e s s i o n   a n d   m e t a s t a s i s ,   i n c l u d i n g   c a n c e r   c e l l   a d a p t a t i o n   t o   t h e   t u m o r   m i c r o e n v i r o n m e n t ,   d e f e n s e   a g a i n s t   o x i d a t i v e   s t r e s s   d u r i n g   a n c h o r a g e - i n d e p e n d e n t   g r o w t h   i n   v e s s e l s ,   a n d   m e t a b o l i c   r e p r o g r a m m i n g   d u r i n g   m e t a s t a s i s .',\n",
       " '\\n         \\n']"
      ]
     },
     "execution_count": 96,
     "metadata": {},
     "output_type": "execute_result"
    }
   ],
   "source": [
    "abstract_chars = [split_chars(text)for text in abstract_line]\n",
    "abstract_chars"
   ]
  },
  {
   "cell_type": "markdown",
   "id": "a96c6c02",
   "metadata": {},
   "source": [
    "## Predicting with our model "
   ]
  },
  {
   "cell_type": "code",
   "execution_count": 97,
   "id": "1c845689",
   "metadata": {},
   "outputs": [
    {
     "name": "stdout",
     "output_type": "stream",
     "text": [
      "1/1 [==============================] - 6s 6s/step\n"
     ]
    },
    {
     "data": {
      "text/plain": [
       "<tf.Tensor: shape=(6,), dtype=int64, numpy=array([3, 0, 0, 0, 1, 2], dtype=int64)>"
      ]
     },
     "execution_count": 97,
     "metadata": {},
     "output_type": "execute_result"
    }
   ],
   "source": [
    "abstract_test = loaded_model.predict(x=(tf.constant(abstract_line),tf.constant(abstract_chars),test_abstract_lines_number_one_hot,test_abstract_total_lines_one_hot))\n",
    "abstract_test_le = tf.argmax(abstract_test,axis=1)\n",
    "abstract_test_le"
   ]
  },
  {
   "cell_type": "code",
   "execution_count": 98,
   "id": "526cb585",
   "metadata": {},
   "outputs": [],
   "source": [
    "classes = ['BACKGROUND', 'CONCLUSIONS', 'METHODS', 'OBJECTIVE', 'RESULTS']"
   ]
  },
  {
   "cell_type": "code",
   "execution_count": 99,
   "id": "d464b6dc",
   "metadata": {},
   "outputs": [
    {
     "data": {
      "text/plain": [
       "['OBJECTIVE',\n",
       " 'BACKGROUND',\n",
       " 'BACKGROUND',\n",
       " 'BACKGROUND',\n",
       " 'CONCLUSIONS',\n",
       " 'METHODS']"
      ]
     },
     "execution_count": 99,
     "metadata": {},
     "output_type": "execute_result"
    }
   ],
   "source": [
    "abstract_class = [classes [i] for i in abstract_test_le]\n",
    "abstract_class"
   ]
  },
  {
   "cell_type": "code",
   "execution_count": 100,
   "id": "2fcbed72",
   "metadata": {},
   "outputs": [
    {
     "data": {
      "text/plain": [
       "<tf.Tensor: shape=(6,), dtype=float32, numpy=\n",
       "array([0.5671354 , 0.51280683, 0.46924156, 0.46746042, 0.36343512,\n",
       "       0.71311533], dtype=float32)>"
      ]
     },
     "execution_count": 100,
     "metadata": {},
     "output_type": "execute_result"
    }
   ],
   "source": [
    "pred_probs = tf.reduce_max(abstract_test,axis=1)\n",
    "pred_probs"
   ]
  },
  {
   "cell_type": "code",
   "execution_count": 101,
   "id": "68551c56",
   "metadata": {},
   "outputs": [
    {
     "name": "stdout",
     "output_type": "stream",
     "text": [
      "the predicted class is : OBJECTIVE 56.71%\n",
      "the text is : \n",
      "\n",
      "      \n",
      "      Cancer cells face various metabolic challenges during tumor progression, including growth in the nutrient-altered and oxygen-deficient microenvironment of the primary site, intravasation into vessels where anchorage-independent growth is required, and colonization of distant organs where the environment is distinct from that of the primary site.\n",
      "\n",
      "the predicted class is : BACKGROUND 51.28%\n",
      "the text is : Thus, cancer cells must reprogram their metabolic state in every step of cancer progression.\n",
      "\n",
      "the predicted class is : BACKGROUND 46.92%\n",
      "the text is : Metabolic reprogramming is now recognized as a hallmark of cancer cells and supports cancer growth.\n",
      "\n",
      "the predicted class is : BACKGROUND 46.75%\n",
      "the text is : Elucidating the underlying mechanisms of metabolic reprogramming in cancer cells may help identifying cancer targets and treatment strategies.\n",
      "\n",
      "the predicted class is : CONCLUSIONS 36.34%\n",
      "the text is : This review summarizes our current understanding of metabolic reprogramming during cancer progression and metastasis, including cancer cell adaptation to the tumor microenvironment, defense against oxidative stress during anchorage-independent growth in vessels, and metabolic reprogramming during metastasis.\n",
      "\n",
      "the predicted class is : METHODS 71.31%\n",
      "the text is : \n",
      "    \n",
      "\n",
      "\n"
     ]
    }
   ],
   "source": [
    "for i,text in enumerate(abstract_line):\n",
    "  print(f\"the predicted class is : {abstract_class[i]} {pred_probs[i]*100:.2f}%\")\n",
    "  print(f\"the text is : {text}\\n\")"
   ]
  },
  {
   "cell_type": "markdown",
   "id": "2e2cc4bf",
   "metadata": {
    "heading_collapsed": true
   },
   "source": [
    "# it's with the model which has 85% accuracy 😗"
   ]
  },
  {
   "cell_type": "code",
   "execution_count": null,
   "id": "1d79e777",
   "metadata": {
    "hidden": true
   },
   "outputs": [],
   "source": []
  }
 ],
 "metadata": {
  "kernelspec": {
   "display_name": "Python 3 (ipykernel)",
   "language": "python",
   "name": "python3"
  },
  "language_info": {
   "codemirror_mode": {
    "name": "ipython",
    "version": 3
   },
   "file_extension": ".py",
   "mimetype": "text/x-python",
   "name": "python",
   "nbconvert_exporter": "python",
   "pygments_lexer": "ipython3",
   "version": "3.9.15"
  },
  "toc": {
   "base_numbering": 1,
   "nav_menu": {},
   "number_sections": true,
   "sideBar": true,
   "skip_h1_title": false,
   "title_cell": "Table of Contents",
   "title_sidebar": "Contents",
   "toc_cell": false,
   "toc_position": {},
   "toc_section_display": true,
   "toc_window_display": false
  }
 },
 "nbformat": 4,
 "nbformat_minor": 5
}
