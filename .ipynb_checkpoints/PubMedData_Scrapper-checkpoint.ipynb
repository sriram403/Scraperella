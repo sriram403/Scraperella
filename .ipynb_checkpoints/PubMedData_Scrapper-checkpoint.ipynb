{
 "cells": [
  {
   "cell_type": "code",
   "execution_count": 1,
   "id": "151516be",
   "metadata": {},
   "outputs": [],
   "source": [
    "from selenium import webdriver\n",
    "from selenium.webdriver.common.keys import Keys\n",
    "from bs4 import BeautifulSoup\n",
    "import time\n",
    "import os \n",
    "import requests\n",
    "import urllib"
   ]
  },
  {
   "cell_type": "code",
   "execution_count": 36,
   "id": "9dad6057",
   "metadata": {},
   "outputs": [],
   "source": [
    "driver = webdriver.Chrome()\n",
    "driver.get(\"https://pubmed.ncbi.nlm.nih.gov/\")"
   ]
  },
  {
   "cell_type": "code",
   "execution_count": 37,
   "id": "f4b3a22a",
   "metadata": {},
   "outputs": [],
   "source": [
    "search_bar = driver.find_element(\"xpath\",'//*[@id=\"id_term\"]')\n",
    "search_bar.send_keys(\"cancer\")"
   ]
  },
  {
   "cell_type": "code",
   "execution_count": 38,
   "id": "88c45604",
   "metadata": {},
   "outputs": [],
   "source": [
    "driver.find_element(\"xpath\",'//*[@id=\"search-form\"]/div/div[1]/div/button').click()"
   ]
  },
  {
   "cell_type": "code",
   "execution_count": 39,
   "id": "3b66d177",
   "metadata": {},
   "outputs": [],
   "source": [
    "driver.find_element(\"xpath\",'//*[@id=\"search-results\"]/section/div[1]/div/article[1]/div[2]/div[1]/a').click()"
   ]
  },
  {
   "cell_type": "code",
   "execution_count": 40,
   "id": "af8acc15",
   "metadata": {},
   "outputs": [],
   "source": [
    "bs = BeautifulSoup(driver.page_source,\"lxml\")"
   ]
  },
  {
   "cell_type": "code",
   "execution_count": 41,
   "id": "af3c7582",
   "metadata": {},
   "outputs": [
    {
     "data": {
      "text/plain": [
       "'\\n\\n      \\n      Cancer is one of the most dreaded diseases of the 20th century and spreading further with continuance and increasing incidence in the 21st century. The situation is so alarming that every fourth person is having a lifetime risk of cancer. India registers more than 11 lakh new cases of cancer every year, whereas, this figure is above 14 million worldwide. Is cancer curable? The short answer to this question is \"Yes.\" In fact, all cancers are curable if they are caught early enough. Cancer cells continue to grow unless one of four things occur: (1) The cancerous mass is removed surgically; (2) using chemotherapy or another type of cancer-specific medication, such as hormonal therapy; (3) using radiation therapy; or (4) the cancer cells shrink and disappear on their own.\\n    \\n'"
      ]
     },
     "execution_count": 41,
     "metadata": {},
     "output_type": "execute_result"
    }
   ],
   "source": [
    "bs.find(\"div\",class_ = \"abstract-content selected\").text"
   ]
  },
  {
   "cell_type": "code",
   "execution_count": null,
   "id": "9cf5ddf9",
   "metadata": {},
   "outputs": [],
   "source": []
  }
 ],
 "metadata": {
  "kernelspec": {
   "display_name": "Python 3 (ipykernel)",
   "language": "python",
   "name": "python3"
  },
  "language_info": {
   "codemirror_mode": {
    "name": "ipython",
    "version": 3
   },
   "file_extension": ".py",
   "mimetype": "text/x-python",
   "name": "python",
   "nbconvert_exporter": "python",
   "pygments_lexer": "ipython3",
   "version": "3.9.15"
  },
  "toc": {
   "base_numbering": 1,
   "nav_menu": {},
   "number_sections": true,
   "sideBar": true,
   "skip_h1_title": false,
   "title_cell": "Table of Contents",
   "title_sidebar": "Contents",
   "toc_cell": false,
   "toc_position": {},
   "toc_section_display": true,
   "toc_window_display": false
  }
 },
 "nbformat": 4,
 "nbformat_minor": 5
}
