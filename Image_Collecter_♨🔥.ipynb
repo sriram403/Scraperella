{
 "cells": [
  {
   "cell_type": "markdown",
   "id": "6e0e5f51",
   "metadata": {},
   "source": [
    "# Writing Web Scrapping Code to Collect Images From Google"
   ]
  },
  {
   "cell_type": "markdown",
   "id": "85d9ebb7",
   "metadata": {},
   "source": [
    "## loading the Libraries Necessaries"
   ]
  },
  {
   "cell_type": "code",
   "execution_count": 43,
   "id": "e14d5e1c",
   "metadata": {},
   "outputs": [],
   "source": [
    "from selenium import webdriver\n",
    "from selenium.webdriver.common.keys import Keys\n",
    "from bs4 import BeautifulSoup\n",
    "import time\n",
    "import os \n",
    "import requests\n",
    "import urllib"
   ]
  },
  {
   "cell_type": "markdown",
   "id": "be428f40",
   "metadata": {},
   "source": [
    "## Which Person Image do you Want to download And How much Images Do you Need"
   ]
  },
  {
   "cell_type": "code",
   "execution_count": 44,
   "id": "4a5a03e0",
   "metadata": {},
   "outputs": [],
   "source": [
    "class_name = \"My favourite\"\n",
    "search_term = \"Elon Musk\"\n",
    "Images_needed = 30"
   ]
  },
  {
   "cell_type": "markdown",
   "id": "e91d882c",
   "metadata": {},
   "source": [
    "## Setting according to your prefrences (with and without browser opening while collecting image)"
   ]
  },
  {
   "cell_type": "code",
   "execution_count": 45,
   "id": "b8901e3d",
   "metadata": {},
   "outputs": [],
   "source": [
    "# #To run without browser opening\n",
    "# op = webdriver.ChromeOptions()\n",
    "# op.add_argument('headless')\n",
    "# driver = webdriver.Chrome(options=op)\n",
    "# driver.get(\"https://google.com\")"
   ]
  },
  {
   "cell_type": "code",
   "execution_count": 46,
   "id": "4f74fcbc",
   "metadata": {},
   "outputs": [],
   "source": [
    "#to open browser while running (we can visualize)\n",
    "driver = webdriver.Chrome()\n",
    "driver.get(\"https://google.com\")"
   ]
  },
  {
   "cell_type": "markdown",
   "id": "1447d6c9",
   "metadata": {},
   "source": [
    "## Setting the SearchBar in google And Entering the className"
   ]
  },
  {
   "cell_type": "code",
   "execution_count": 47,
   "id": "d49342ce",
   "metadata": {},
   "outputs": [],
   "source": [
    "box = driver.find_element(\"xpath\",\"/html/body/div[1]/div[3]/form/div[1]/div[1]/div[1]/div/div[2]/input\")\n",
    "box.send_keys(search_term)\n",
    "box.send_keys(Keys.ENTER)"
   ]
  },
  {
   "cell_type": "markdown",
   "id": "fbd0fe3b",
   "metadata": {},
   "source": [
    "## moving to the images tab in google"
   ]
  },
  {
   "cell_type": "code",
   "execution_count": 48,
   "id": "810a6db8",
   "metadata": {},
   "outputs": [],
   "source": [
    "driver.find_element(\"xpath\",\"//*[@id='hdtb-msb']/div[1]/div/div[2]/a\").click()"
   ]
  },
  {
   "cell_type": "markdown",
   "id": "cefbc468",
   "metadata": {},
   "source": [
    "## Getting the right amount of images needed from all the images in google images tab"
   ]
  },
  {
   "cell_type": "code",
   "execution_count": 49,
   "id": "29139ff6",
   "metadata": {},
   "outputs": [
    {
     "name": "stdout",
     "output_type": "stream",
     "text": [
      "finished_scrolling\n"
     ]
    }
   ],
   "source": [
    "starting_length = driver.execute_script(\"return document.body.scrollHeight\")\n",
    "finished_length = starting_length+1\n",
    "Find_Images = True\n",
    "while (starting_length != finished_length) & (Find_Images):\n",
    "    starting_length = driver.execute_script(\"return document.body.scrollHeight\")\n",
    "    driver.execute_script(\"window.scrollTo(0,document.body.scrollHeight)\")\n",
    "    soup = BeautifulSoup(driver.page_source,\"lxml\")\n",
    "    all_images = soup.find_all(\"div\",class_=\"isv-r PNCib MSM1fd BUooTd\")\n",
    "    try:\n",
    "        all_images = soup.find_all(\"div\",class_=\"isv-r PNCib MSM1fd BUooTd\")\n",
    "        if len(all_images) <= Images_needed:\n",
    "            time.sleep(5)\n",
    "            finished_length = driver.execute_script(\"return document.body.scrollHeight\")\n",
    "        else:\n",
    "            all_images = soup.find_all(\"div\",class_=\"isv-r PNCib MSM1fd BUooTd\")\n",
    "            Find_Images = False\n",
    "    except Exception as e:\n",
    "        print(f\"the exception occured as: {e}\")\n",
    "print(\"finished_scrolling\")"
   ]
  },
  {
   "cell_type": "markdown",
   "id": "2b49b30a",
   "metadata": {},
   "source": [
    "### Trying the challenge"
   ]
  },
  {
   "cell_type": "code",
   "execution_count": 50,
   "id": "b0fca2dd",
   "metadata": {},
   "outputs": [
    {
     "name": "stdout",
     "output_type": "stream",
     "text": [
      "finished_scrolling\n"
     ]
    }
   ],
   "source": [
    "all_details = soup.find_all(\"div\",class_=\"isv-r PNCib MSM1fd BUooTd\")\n",
    "if len(all_details) == 0 :\n",
    "    driver.find_element(\"xpath\",'//*[@id=\"hdtb-msb\"]/div[1]/div/div[3]/a').click()\n",
    "    starting_length = driver.execute_script(\"return document.body.scrollHeight\")\n",
    "    finished_length = starting_length+1\n",
    "    Find_Images = True\n",
    "    while (starting_length != finished_length) & (Find_Images):\n",
    "        starting_length = driver.execute_script(\"return document.body.scrollHeight\")\n",
    "        driver.execute_script(\"window.scrollTo(0,document.body.scrollHeight)\")\n",
    "        soup = BeautifulSoup(driver.page_source,\"lxml\")\n",
    "        all_images = soup.find_all(\"div\",class_=\"isv-r PNCib MSM1fd BUooTd\")\n",
    "        try:\n",
    "            all_images = soup.find_all(\"div\",class_=\"isv-r PNCib MSM1fd BUooTd\")\n",
    "            if len(all_images) <= Images_needed:\n",
    "                time.sleep(5)\n",
    "                finished_length = driver.execute_script(\"return document.body.scrollHeight\")\n",
    "            else:\n",
    "                all_images = soup.find_all(\"div\",class_=\"isv-r PNCib MSM1fd BUooTd\")\n",
    "                Find_Images = False\n",
    "        except Exception as e:\n",
    "            print(f\"the exception occured as: {e}\")\n",
    "    print(\"finished_scrolling\")    \n",
    "    all_details=soup.find_all(\"div\",class_=\"isv-r PNCib MSM1fd BUooTd\")"
   ]
  },
  {
   "cell_type": "markdown",
   "id": "6913023a",
   "metadata": {},
   "source": [
    "## Checking how many images we have "
   ]
  },
  {
   "cell_type": "code",
   "execution_count": 51,
   "id": "e46386dc",
   "metadata": {},
   "outputs": [],
   "source": [
    "# soup = BeautifulSoup(driver.page_source,\"html.parser\")\n",
    "soup = BeautifulSoup(driver.page_source,\"html5lib\")"
   ]
  },
  {
   "cell_type": "code",
   "execution_count": 52,
   "id": "d36ce9b5",
   "metadata": {},
   "outputs": [
    {
     "data": {
      "text/plain": [
       "100"
      ]
     },
     "execution_count": 52,
     "metadata": {},
     "output_type": "execute_result"
    }
   ],
   "source": [
    "all_images = soup.find_all(\"div\",class_=\"isv-r PNCib MSM1fd BUooTd\")\n",
    "len(all_images)"
   ]
  },
  {
   "cell_type": "code",
   "execution_count": 53,
   "id": "c3dc0795",
   "metadata": {},
   "outputs": [
    {
     "data": {
      "text/plain": [
       "100"
      ]
     },
     "execution_count": 53,
     "metadata": {},
     "output_type": "execute_result"
    }
   ],
   "source": [
    "import pandas as pd\n",
    "index = int(len(all_images))\n",
    "index"
   ]
  },
  {
   "cell_type": "code",
   "execution_count": 54,
   "id": "55a483fe",
   "metadata": {},
   "outputs": [
    {
     "data": {
      "text/html": [
       "<div>\n",
       "<style scoped>\n",
       "    .dataframe tbody tr th:only-of-type {\n",
       "        vertical-align: middle;\n",
       "    }\n",
       "\n",
       "    .dataframe tbody tr th {\n",
       "        vertical-align: top;\n",
       "    }\n",
       "\n",
       "    .dataframe thead th {\n",
       "        text-align: right;\n",
       "    }\n",
       "</style>\n",
       "<table border=\"1\" class=\"dataframe\">\n",
       "  <thead>\n",
       "    <tr style=\"text-align: center;\">\n",
       "      <th></th>\n",
       "      <th>Blog_Link</th>\n",
       "      <th>Title</th>\n",
       "      <th>Source_Name</th>\n",
       "    </tr>\n",
       "  </thead>\n",
       "  <tbody>\n",
       "  </tbody>\n",
       "</table>\n",
       "</div>"
      ],
      "text/plain": [
       "Empty DataFrame\n",
       "Columns: [Blog_Link, Title, Source_Name]\n",
       "Index: []"
      ]
     },
     "execution_count": 54,
     "metadata": {},
     "output_type": "execute_result"
    }
   ],
   "source": [
    "dataframe = pd.DataFrame(columns=[\"Blog_Link\",\"Title\",\"Source_Name\"])\n",
    "dataframe"
   ]
  },
  {
   "cell_type": "code",
   "execution_count": 55,
   "id": "4ed1e667",
   "metadata": {},
   "outputs": [
    {
     "data": {
      "text/html": [
       "<div>\n",
       "<style scoped>\n",
       "    .dataframe tbody tr th:only-of-type {\n",
       "        vertical-align: middle;\n",
       "    }\n",
       "\n",
       "    .dataframe tbody tr th {\n",
       "        vertical-align: top;\n",
       "    }\n",
       "\n",
       "    .dataframe thead th {\n",
       "        text-align: right;\n",
       "    }\n",
       "</style>\n",
       "<table border=\"1\" class=\"dataframe\">\n",
       "  <thead>\n",
       "    <tr style=\"text-align: center;\">\n",
       "      <th></th>\n",
       "      <th>Blog_Link</th>\n",
       "      <th>Title</th>\n",
       "      <th>Source_Name</th>\n",
       "    </tr>\n",
       "  </thead>\n",
       "  <tbody>\n",
       "    <tr>\n",
       "      <th>0</th>\n",
       "      <td>https://www.rollingstone.com/culture/culture-n...</td>\n",
       "      <td>Elon Musk Reportedly Fires Twitter Engineer Ov...</td>\n",
       "      <td>Rolling Stone</td>\n",
       "    </tr>\n",
       "    <tr>\n",
       "      <th>1</th>\n",
       "      <td>https://en.wikipedia.org/wiki/Elon_Musk</td>\n",
       "      <td>Elon Musk - Wikipedia</td>\n",
       "      <td>Wikipedia</td>\n",
       "    </tr>\n",
       "    <tr>\n",
       "      <th>2</th>\n",
       "      <td>https://www.cnbc.com/2023/02/08/biden-billiona...</td>\n",
       "      <td>Biden billionaire minimum tax: What Elon Musk ...</td>\n",
       "      <td>CNBC</td>\n",
       "    </tr>\n",
       "    <tr>\n",
       "      <th>3</th>\n",
       "      <td>https://www.britannica.com/biography/Elon-Musk</td>\n",
       "      <td>Elon Musk | Biography, SpaceX, Tesla, Twitter,...</td>\n",
       "      <td>Encyclopedia Britannica</td>\n",
       "    </tr>\n",
       "    <tr>\n",
       "      <th>4</th>\n",
       "      <td>https://www.hollywoodreporter.com/business/bus...</td>\n",
       "      <td>Elon Musk, Tesla Beat Investor Suit Over 'Fund...</td>\n",
       "      <td>The Hollywood Reporter</td>\n",
       "    </tr>\n",
       "  </tbody>\n",
       "</table>\n",
       "</div>"
      ],
      "text/plain": [
       "                      Blog_Link                       \\\n",
       "0  https://www.rollingstone.com/culture/culture-n...   \n",
       "1            https://en.wikipedia.org/wiki/Elon_Musk   \n",
       "2  https://www.cnbc.com/2023/02/08/biden-billiona...   \n",
       "3     https://www.britannica.com/biography/Elon-Musk   \n",
       "4  https://www.hollywoodreporter.com/business/bus...   \n",
       "\n",
       "                        Title                              Source_Name         \n",
       "0  Elon Musk Reportedly Fires Twitter Engineer Ov...            Rolling Stone  \n",
       "1                              Elon Musk - Wikipedia                Wikipedia  \n",
       "2  Biden billionaire minimum tax: What Elon Musk ...                     CNBC  \n",
       "3  Elon Musk | Biography, SpaceX, Tesla, Twitter,...  Encyclopedia Britannica  \n",
       "4  Elon Musk, Tesla Beat Investor Suit Over 'Fund...   The Hollywood Reporter  "
      ]
     },
     "execution_count": 55,
     "metadata": {},
     "output_type": "execute_result"
    }
   ],
   "source": [
    "for detail in all_details[:index]:\n",
    "    link_and_title = detail.find(\"a\",class_=\"VFACy kGQAp sMi44c d0NI4c lNHeqe WGvvNb\")\n",
    "    link = link_and_title.get(\"href\")\n",
    "    title = link_and_title.get(\"title\")\n",
    "    source = link_and_title.find(\"div\",class_=\"dmeZbb\").text\n",
    "    dataframe = pd.concat([dataframe,pd.DataFrame({dataframe.columns[0]:[link],dataframe.columns[1]:[title],\n",
    "                                                    dataframe.columns[2]:[source]})],ignore_index=True)\n",
    "dataframe.head()"
   ]
  },
  {
   "cell_type": "markdown",
   "id": "fe13b040",
   "metadata": {},
   "source": [
    "## Creating a folder with a Class_name"
   ]
  },
  {
   "cell_type": "code",
   "execution_count": 56,
   "id": "78be81f0",
   "metadata": {},
   "outputs": [],
   "source": [
    "path = os.path.join(os.getcwd(),f\"{class_name}\")\n",
    "os.makedirs(path,exist_ok=True)    "
   ]
  },
  {
   "cell_type": "code",
   "execution_count": 57,
   "id": "67296e40",
   "metadata": {},
   "outputs": [],
   "source": [
    "# os.listdir(path)"
   ]
  },
  {
   "cell_type": "markdown",
   "id": "516fcf21",
   "metadata": {},
   "source": [
    "## Final Total Number Of Images"
   ]
  },
  {
   "cell_type": "code",
   "execution_count": 58,
   "id": "214f3b0e",
   "metadata": {},
   "outputs": [],
   "source": [
    "# #to get a image file without compression\n",
    "# import urllib.request\n",
    "# image_url = \"give any image url from google we can get a image file without compression :)\"\n",
    "# request = urllib.request.Request(image_url, headers={\"Accept-Encoding\": \"identity\"})\n",
    "# response = urllib.request.urlopen(request)\n",
    "# with open(\"image.jpg\", \"wb\") as f:\n",
    "#     f.write(response.read())"
   ]
  },
  {
   "cell_type": "code",
   "execution_count": 59,
   "id": "b0eb58e6",
   "metadata": {},
   "outputs": [
    {
     "data": {
      "text/html": [
       "<div>\n",
       "<style scoped>\n",
       "    .dataframe tbody tr th:only-of-type {\n",
       "        vertical-align: middle;\n",
       "    }\n",
       "\n",
       "    .dataframe tbody tr th {\n",
       "        vertical-align: top;\n",
       "    }\n",
       "\n",
       "    .dataframe thead th {\n",
       "        text-align: right;\n",
       "    }\n",
       "</style>\n",
       "<table border=\"1\" class=\"dataframe\">\n",
       "  <thead>\n",
       "    <tr style=\"text-align: center;\">\n",
       "      <th></th>\n",
       "      <th>Blog_Link</th>\n",
       "      <th>Title</th>\n",
       "      <th>Source_Name</th>\n",
       "    </tr>\n",
       "  </thead>\n",
       "  <tbody>\n",
       "    <tr>\n",
       "      <th>0</th>\n",
       "      <td>https://www.rollingstone.com/culture/culture-n...</td>\n",
       "      <td>Elon Musk Reportedly Fires Twitter Engineer Ov...</td>\n",
       "      <td>Rolling Stone</td>\n",
       "    </tr>\n",
       "    <tr>\n",
       "      <th>1</th>\n",
       "      <td>https://en.wikipedia.org/wiki/Elon_Musk</td>\n",
       "      <td>Elon Musk - Wikipedia</td>\n",
       "      <td>Wikipedia</td>\n",
       "    </tr>\n",
       "    <tr>\n",
       "      <th>2</th>\n",
       "      <td>https://www.cnbc.com/2023/02/08/biden-billiona...</td>\n",
       "      <td>Biden billionaire minimum tax: What Elon Musk ...</td>\n",
       "      <td>CNBC</td>\n",
       "    </tr>\n",
       "    <tr>\n",
       "      <th>3</th>\n",
       "      <td>https://www.britannica.com/biography/Elon-Musk</td>\n",
       "      <td>Elon Musk | Biography, SpaceX, Tesla, Twitter,...</td>\n",
       "      <td>Encyclopedia Britannica</td>\n",
       "    </tr>\n",
       "    <tr>\n",
       "      <th>4</th>\n",
       "      <td>https://www.hollywoodreporter.com/business/bus...</td>\n",
       "      <td>Elon Musk, Tesla Beat Investor Suit Over 'Fund...</td>\n",
       "      <td>The Hollywood Reporter</td>\n",
       "    </tr>\n",
       "    <tr>\n",
       "      <th>...</th>\n",
       "      <td>...</td>\n",
       "      <td>...</td>\n",
       "      <td>...</td>\n",
       "    </tr>\n",
       "    <tr>\n",
       "      <th>95</th>\n",
       "      <td>https://www.xprize.org/about/people/elon-musk</td>\n",
       "      <td>XPRIZE Foundation Bio - Elon Musk</td>\n",
       "      <td>XPRIZE Foundation</td>\n",
       "    </tr>\n",
       "    <tr>\n",
       "      <th>96</th>\n",
       "      <td>https://www.theverge.com/2022/10/27/23184519/e...</td>\n",
       "      <td>Twitter is now an Elon Musk company - The Verge</td>\n",
       "      <td>The Verge</td>\n",
       "    </tr>\n",
       "    <tr>\n",
       "      <th>97</th>\n",
       "      <td>https://ktla.com/news/elon-musk-secures-record...</td>\n",
       "      <td>Elon Musk secures record for largest-ever loss...</td>\n",
       "      <td>KTLA</td>\n",
       "    </tr>\n",
       "    <tr>\n",
       "      <th>98</th>\n",
       "      <td>https://nymag.com/intelligencer/2022/10/elon-m...</td>\n",
       "      <td>Elon Musk's Incredible Shrinking Future</td>\n",
       "      <td>New York Magazine</td>\n",
       "    </tr>\n",
       "    <tr>\n",
       "      <th>99</th>\n",
       "      <td>https://techcrunch.com/2022/03/01/elon-musk-an...</td>\n",
       "      <td>Elon Musk and Tesla need a Tim Cook | TechCrunch</td>\n",
       "      <td>TechCrunch</td>\n",
       "    </tr>\n",
       "  </tbody>\n",
       "</table>\n",
       "<p>100 rows × 3 columns</p>\n",
       "</div>"
      ],
      "text/plain": [
       "                       Blog_Link                       \\\n",
       "0   https://www.rollingstone.com/culture/culture-n...   \n",
       "1             https://en.wikipedia.org/wiki/Elon_Musk   \n",
       "2   https://www.cnbc.com/2023/02/08/biden-billiona...   \n",
       "3      https://www.britannica.com/biography/Elon-Musk   \n",
       "4   https://www.hollywoodreporter.com/business/bus...   \n",
       "..                                                ...   \n",
       "95      https://www.xprize.org/about/people/elon-musk   \n",
       "96  https://www.theverge.com/2022/10/27/23184519/e...   \n",
       "97  https://ktla.com/news/elon-musk-secures-record...   \n",
       "98  https://nymag.com/intelligencer/2022/10/elon-m...   \n",
       "99  https://techcrunch.com/2022/03/01/elon-musk-an...   \n",
       "\n",
       "                         Title                              Source_Name         \n",
       "0   Elon Musk Reportedly Fires Twitter Engineer Ov...            Rolling Stone  \n",
       "1                               Elon Musk - Wikipedia                Wikipedia  \n",
       "2   Biden billionaire minimum tax: What Elon Musk ...                     CNBC  \n",
       "3   Elon Musk | Biography, SpaceX, Tesla, Twitter,...  Encyclopedia Britannica  \n",
       "4   Elon Musk, Tesla Beat Investor Suit Over 'Fund...   The Hollywood Reporter  \n",
       "..                                                ...                      ...  \n",
       "95                  XPRIZE Foundation Bio - Elon Musk        XPRIZE Foundation  \n",
       "96    Twitter is now an Elon Musk company - The Verge                The Verge  \n",
       "97  Elon Musk secures record for largest-ever loss...                     KTLA  \n",
       "98            Elon Musk's Incredible Shrinking Future        New York Magazine  \n",
       "99   Elon Musk and Tesla need a Tim Cook | TechCrunch               TechCrunch  \n",
       "\n",
       "[100 rows x 3 columns]"
      ]
     },
     "execution_count": 59,
     "metadata": {},
     "output_type": "execute_result"
    }
   ],
   "source": [
    "dataframe"
   ]
  },
  {
   "cell_type": "code",
   "execution_count": 61,
   "id": "efd8bac9",
   "metadata": {},
   "outputs": [
    {
     "data": {
      "text/plain": [
       "100"
      ]
     },
     "execution_count": 61,
     "metadata": {},
     "output_type": "execute_result"
    }
   ],
   "source": [
    "len(all_images)"
   ]
  },
  {
   "cell_type": "code",
   "execution_count": 62,
   "id": "2a50322f",
   "metadata": {},
   "outputs": [],
   "source": [
    "dataframe[\"Images\"] = None\n",
    "for i,image_link in enumerate(all_images):\n",
    "    imageurl = image_link.find(\"img\",class_=\"rg_i Q4LuWd\").get(\"src\")\n",
    "    alt_image_url = image_link.find(\"img\",class_=\"rg_i Q4LuWd\").get(\"data-src\")\n",
    "    try:\n",
    "        dataframe.iloc[i,-1] = imageurl if imageurl != None else None\n",
    "        urllib.request.urlretrieve(imageurl,f\"{path}/{search_term}_image_{i}.jpg\")\n",
    "    except Exception as e:\n",
    "        dataframe.iloc[i,-1] = alt_image_url if alt_image_url != None else None\n",
    "        urllib.request.urlretrieve(alt_image_url,f\"{path}/{search_term}image_{i}.jpg\")\n",
    "        pass"
   ]
  },
  {
   "cell_type": "markdown",
   "id": "3250eb82",
   "metadata": {},
   "source": [
    "## total Number of images"
   ]
  },
  {
   "cell_type": "code",
   "execution_count": 63,
   "id": "66940fd1",
   "metadata": {},
   "outputs": [
    {
     "data": {
      "text/plain": [
       "100"
      ]
     },
     "execution_count": 63,
     "metadata": {},
     "output_type": "execute_result"
    }
   ],
   "source": [
    "len(os.listdir(path))"
   ]
  },
  {
   "cell_type": "code",
   "execution_count": 64,
   "id": "cd96b96b",
   "metadata": {},
   "outputs": [
    {
     "data": {
      "text/html": [
       "<div>\n",
       "<style scoped>\n",
       "    .dataframe tbody tr th:only-of-type {\n",
       "        vertical-align: middle;\n",
       "    }\n",
       "\n",
       "    .dataframe tbody tr th {\n",
       "        vertical-align: top;\n",
       "    }\n",
       "\n",
       "    .dataframe thead th {\n",
       "        text-align: right;\n",
       "    }\n",
       "</style>\n",
       "<table border=\"1\" class=\"dataframe\">\n",
       "  <thead>\n",
       "    <tr style=\"text-align: center;\">\n",
       "      <th></th>\n",
       "      <th>Blog_Link</th>\n",
       "      <th>Title</th>\n",
       "      <th>Source_Name</th>\n",
       "      <th>Images</th>\n",
       "    </tr>\n",
       "  </thead>\n",
       "  <tbody>\n",
       "    <tr>\n",
       "      <th>0</th>\n",
       "      <td>https://www.rollingstone.com/culture/culture-n...</td>\n",
       "      <td>Elon Musk Reportedly Fires Twitter Engineer Ov...</td>\n",
       "      <td>Rolling Stone</td>\n",
       "      <td>data:image/jpeg;base64,/9j/4AAQSkZJRgABAQAAAQA...</td>\n",
       "    </tr>\n",
       "    <tr>\n",
       "      <th>1</th>\n",
       "      <td>https://en.wikipedia.org/wiki/Elon_Musk</td>\n",
       "      <td>Elon Musk - Wikipedia</td>\n",
       "      <td>Wikipedia</td>\n",
       "      <td>data:image/jpeg;base64,/9j/4AAQSkZJRgABAQAAAQA...</td>\n",
       "    </tr>\n",
       "    <tr>\n",
       "      <th>2</th>\n",
       "      <td>https://www.cnbc.com/2023/02/08/biden-billiona...</td>\n",
       "      <td>Biden billionaire minimum tax: What Elon Musk ...</td>\n",
       "      <td>CNBC</td>\n",
       "      <td>data:image/jpeg;base64,/9j/4AAQSkZJRgABAQAAAQA...</td>\n",
       "    </tr>\n",
       "    <tr>\n",
       "      <th>3</th>\n",
       "      <td>https://www.britannica.com/biography/Elon-Musk</td>\n",
       "      <td>Elon Musk | Biography, SpaceX, Tesla, Twitter,...</td>\n",
       "      <td>Encyclopedia Britannica</td>\n",
       "      <td>data:image/jpeg;base64,/9j/4AAQSkZJRgABAQAAAQA...</td>\n",
       "    </tr>\n",
       "    <tr>\n",
       "      <th>4</th>\n",
       "      <td>https://www.hollywoodreporter.com/business/bus...</td>\n",
       "      <td>Elon Musk, Tesla Beat Investor Suit Over 'Fund...</td>\n",
       "      <td>The Hollywood Reporter</td>\n",
       "      <td>data:image/jpeg;base64,/9j/4AAQSkZJRgABAQAAAQA...</td>\n",
       "    </tr>\n",
       "  </tbody>\n",
       "</table>\n",
       "</div>"
      ],
      "text/plain": [
       "                      Blog_Link                       \\\n",
       "0  https://www.rollingstone.com/culture/culture-n...   \n",
       "1            https://en.wikipedia.org/wiki/Elon_Musk   \n",
       "2  https://www.cnbc.com/2023/02/08/biden-billiona...   \n",
       "3     https://www.britannica.com/biography/Elon-Musk   \n",
       "4  https://www.hollywoodreporter.com/business/bus...   \n",
       "\n",
       "                        Title                              Source_Name         \\\n",
       "0  Elon Musk Reportedly Fires Twitter Engineer Ov...            Rolling Stone   \n",
       "1                              Elon Musk - Wikipedia                Wikipedia   \n",
       "2  Biden billionaire minimum tax: What Elon Musk ...                     CNBC   \n",
       "3  Elon Musk | Biography, SpaceX, Tesla, Twitter,...  Encyclopedia Britannica   \n",
       "4  Elon Musk, Tesla Beat Investor Suit Over 'Fund...   The Hollywood Reporter   \n",
       "\n",
       "                        Images                        \n",
       "0  data:image/jpeg;base64,/9j/4AAQSkZJRgABAQAAAQA...  \n",
       "1  data:image/jpeg;base64,/9j/4AAQSkZJRgABAQAAAQA...  \n",
       "2  data:image/jpeg;base64,/9j/4AAQSkZJRgABAQAAAQA...  \n",
       "3  data:image/jpeg;base64,/9j/4AAQSkZJRgABAQAAAQA...  \n",
       "4  data:image/jpeg;base64,/9j/4AAQSkZJRgABAQAAAQA...  "
      ]
     },
     "execution_count": 64,
     "metadata": {},
     "output_type": "execute_result"
    }
   ],
   "source": [
    "dataframe.head()"
   ]
  },
  {
   "cell_type": "code",
   "execution_count": 65,
   "id": "6eabb961",
   "metadata": {},
   "outputs": [],
   "source": [
    "def path_to_image_html(path):\n",
    "    return '<img src =\"'+ path + '\" width=\"120\" >'"
   ]
  },
  {
   "cell_type": "code",
   "execution_count": 66,
   "id": "423e0b37",
   "metadata": {},
   "outputs": [],
   "source": [
    "pd.set_option('colheader_justify', 'center')"
   ]
  },
  {
   "cell_type": "code",
   "execution_count": 67,
   "id": "8342d01e",
   "metadata": {},
   "outputs": [],
   "source": [
    "dataframe.to_html(f\"{search_term}_data.html\",escape=False,formatters=dict(Images=path_to_image_html))"
   ]
  },
  {
   "cell_type": "code",
   "execution_count": 68,
   "id": "e145c2c4",
   "metadata": {},
   "outputs": [
    {
     "data": {
      "text/plain": [
       "'https://encrypted-tbn0.gstatic.com/images?q=tbn:ANd9GcQnz4PBg-fQ2UhXrXxbCz-HPj1AztzB4HW8Qg&usqp=CAU'"
      ]
     },
     "execution_count": 68,
     "metadata": {},
     "output_type": "execute_result"
    }
   ],
   "source": [
    "dataframe[\"Images\"][21]"
   ]
  },
  {
   "cell_type": "markdown",
   "id": "facf737a",
   "metadata": {},
   "source": [
    "# Doing it all at once "
   ]
  },
  {
   "cell_type": "code",
   "execution_count": null,
   "id": "ad22b07f",
   "metadata": {},
   "outputs": [],
   "source": []
  },
  {
   "cell_type": "code",
   "execution_count": null,
   "id": "cf3a9813",
   "metadata": {},
   "outputs": [],
   "source": []
  }
 ],
 "metadata": {
  "kernelspec": {
   "display_name": "Python 3 (ipykernel)",
   "language": "python",
   "name": "python3"
  },
  "language_info": {
   "codemirror_mode": {
    "name": "ipython",
    "version": 3
   },
   "file_extension": ".py",
   "mimetype": "text/x-python",
   "name": "python",
   "nbconvert_exporter": "python",
   "pygments_lexer": "ipython3",
   "version": "3.8.0"
  },
  "toc": {
   "base_numbering": 1,
   "nav_menu": {},
   "number_sections": true,
   "sideBar": true,
   "skip_h1_title": false,
   "title_cell": "Table of Contents",
   "title_sidebar": "Contents",
   "toc_cell": false,
   "toc_position": {
    "height": "calc(100% - 180px)",
    "left": "10px",
    "top": "150px",
    "width": "165px"
   },
   "toc_section_display": true,
   "toc_window_display": true
  },
  "vscode": {
   "interpreter": {
    "hash": "db29d9c3531fbefb8528bf1617aed628388b45e6ce014ed5e5e3db8968ae6306"
   }
  }
 },
 "nbformat": 4,
 "nbformat_minor": 5
}
